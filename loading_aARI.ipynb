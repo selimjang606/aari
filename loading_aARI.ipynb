{
 "cells": [
  {
   "cell_type": "code",
   "execution_count": 48,
   "metadata": {},
   "outputs": [
    {
     "data": {
      "text/plain": [
       "360"
      ]
     },
     "execution_count": 48,
     "metadata": {},
     "output_type": "execute_result"
    }
   ],
   "source": [
    "# Subjects\n",
    "subjects = ['_1']\n",
    "\n",
    "for s in subjects:\n",
    "    loaded = io.loadmat('aARI2%s.mat' % s, squeeze_me=True)\n",
    "    eeg = loaded['aARI2']['eeg8ms'] \n",
    "\n",
    "    \n",
    "eeg.shape[0]"
   ]
  },
  {
   "cell_type": "code",
   "execution_count": 59,
   "metadata": {},
   "outputs": [
    {
     "name": "stdout",
     "output_type": "stream",
     "text": [
      "Populating the interactive namespace from numpy and matplotlib\n",
      "decoding\n"
     ]
    },
    {
     "ename": "ValueError",
     "evalue": "Found input variables with inconsistent numbers of samples: [129, 360]",
     "output_type": "error",
     "traceback": [
      "\u001b[0;31m---------------------------------------------------------------------------\u001b[0m",
      "\u001b[0;31mValueError\u001b[0m                                Traceback (most recent call last)",
      "\u001b[0;32m<ipython-input-59-2f8748d3f3a5>\u001b[0m in \u001b[0;36m<module>\u001b[0;34m\u001b[0m\n\u001b[1;32m     73\u001b[0m     \u001b[0;32mfor\u001b[0m \u001b[0mtp\u001b[0m \u001b[0;32min\u001b[0m \u001b[0mrange\u001b[0m \u001b[0;34m(\u001b[0m\u001b[0;36m1\u001b[0m\u001b[0;34m,\u001b[0m\u001b[0;36m125\u001b[0m\u001b[0;34m)\u001b[0m\u001b[0;34m:\u001b[0m\u001b[0;34m\u001b[0m\u001b[0;34m\u001b[0m\u001b[0m\n\u001b[1;32m     74\u001b[0m         \u001b[0mtp_eeg\u001b[0m \u001b[0;34m=\u001b[0m \u001b[0mX\u001b[0m\u001b[0;34m[\u001b[0m\u001b[0;34m:\u001b[0m\u001b[0;34m]\u001b[0m\u001b[0;34m[\u001b[0m\u001b[0;34m:\u001b[0m\u001b[0;34m]\u001b[0m\u001b[0;34m[\u001b[0m\u001b[0mtp\u001b[0m\u001b[0;34m]\u001b[0m \u001b[0;31m# trial, channel, time\u001b[0m\u001b[0;34m\u001b[0m\u001b[0;34m\u001b[0m\u001b[0m\n\u001b[0;32m---> 75\u001b[0;31m         \u001b[0mscores_t_X_long\u001b[0m \u001b[0;34m=\u001b[0m \u001b[0mcross_val_score\u001b[0m\u001b[0;34m(\u001b[0m\u001b[0mclf_scal\u001b[0m\u001b[0;34m,\u001b[0m \u001b[0mtp_eeg\u001b[0m\u001b[0;34m,\u001b[0m \u001b[0my\u001b[0m\u001b[0;34m,\u001b[0m \u001b[0mcv\u001b[0m\u001b[0;34m=\u001b[0m\u001b[0mcv\u001b[0m\u001b[0;34m,\u001b[0m \u001b[0mn_jobs\u001b[0m\u001b[0;34m=\u001b[0m\u001b[0;36m7\u001b[0m\u001b[0;34m)\u001b[0m\u001b[0;34m\u001b[0m\u001b[0;34m\u001b[0m\u001b[0m\n\u001b[0m\u001b[1;32m     76\u001b[0m         \u001b[0mscores_AllBin\u001b[0m \u001b[0;34m=\u001b[0m \u001b[0mnp\u001b[0m\u001b[0;34m.\u001b[0m\u001b[0mappend\u001b[0m\u001b[0;34m(\u001b[0m\u001b[0mscores_AllBin\u001b[0m\u001b[0;34m,\u001b[0m\u001b[0mscores_t_X_long\u001b[0m\u001b[0;34m.\u001b[0m\u001b[0mmean\u001b[0m\u001b[0;34m(\u001b[0m\u001b[0;34m)\u001b[0m\u001b[0;34m)\u001b[0m\u001b[0;34m\u001b[0m\u001b[0;34m\u001b[0m\u001b[0m\n\u001b[1;32m     77\u001b[0m         \u001b[0;31m#std_scores_AllBin = np.append(std_scores_AllBin,scores_t_X_long.std())\u001b[0m\u001b[0;34m\u001b[0m\u001b[0;34m\u001b[0m\u001b[0;34m\u001b[0m\u001b[0m\n",
      "\u001b[0;32m~/opt/anaconda3/lib/python3.7/site-packages/sklearn/model_selection/_validation.py\u001b[0m in \u001b[0;36mcross_val_score\u001b[0;34m(estimator, X, y, groups, scoring, cv, n_jobs, verbose, fit_params, pre_dispatch, error_score)\u001b[0m\n\u001b[1;32m    388\u001b[0m                                 \u001b[0mfit_params\u001b[0m\u001b[0;34m=\u001b[0m\u001b[0mfit_params\u001b[0m\u001b[0;34m,\u001b[0m\u001b[0;34m\u001b[0m\u001b[0;34m\u001b[0m\u001b[0m\n\u001b[1;32m    389\u001b[0m                                 \u001b[0mpre_dispatch\u001b[0m\u001b[0;34m=\u001b[0m\u001b[0mpre_dispatch\u001b[0m\u001b[0;34m,\u001b[0m\u001b[0;34m\u001b[0m\u001b[0;34m\u001b[0m\u001b[0m\n\u001b[0;32m--> 390\u001b[0;31m                                 error_score=error_score)\n\u001b[0m\u001b[1;32m    391\u001b[0m     \u001b[0;32mreturn\u001b[0m \u001b[0mcv_results\u001b[0m\u001b[0;34m[\u001b[0m\u001b[0;34m'test_score'\u001b[0m\u001b[0;34m]\u001b[0m\u001b[0;34m\u001b[0m\u001b[0;34m\u001b[0m\u001b[0m\n\u001b[1;32m    392\u001b[0m \u001b[0;34m\u001b[0m\u001b[0m\n",
      "\u001b[0;32m~/opt/anaconda3/lib/python3.7/site-packages/sklearn/model_selection/_validation.py\u001b[0m in \u001b[0;36mcross_validate\u001b[0;34m(estimator, X, y, groups, scoring, cv, n_jobs, verbose, fit_params, pre_dispatch, return_train_score, return_estimator, error_score)\u001b[0m\n\u001b[1;32m    219\u001b[0m \u001b[0;34m\u001b[0m\u001b[0m\n\u001b[1;32m    220\u001b[0m     \"\"\"\n\u001b[0;32m--> 221\u001b[0;31m     \u001b[0mX\u001b[0m\u001b[0;34m,\u001b[0m \u001b[0my\u001b[0m\u001b[0;34m,\u001b[0m \u001b[0mgroups\u001b[0m \u001b[0;34m=\u001b[0m \u001b[0mindexable\u001b[0m\u001b[0;34m(\u001b[0m\u001b[0mX\u001b[0m\u001b[0;34m,\u001b[0m \u001b[0my\u001b[0m\u001b[0;34m,\u001b[0m \u001b[0mgroups\u001b[0m\u001b[0;34m)\u001b[0m\u001b[0;34m\u001b[0m\u001b[0;34m\u001b[0m\u001b[0m\n\u001b[0m\u001b[1;32m    222\u001b[0m \u001b[0;34m\u001b[0m\u001b[0m\n\u001b[1;32m    223\u001b[0m     \u001b[0mcv\u001b[0m \u001b[0;34m=\u001b[0m \u001b[0mcheck_cv\u001b[0m\u001b[0;34m(\u001b[0m\u001b[0mcv\u001b[0m\u001b[0;34m,\u001b[0m \u001b[0my\u001b[0m\u001b[0;34m,\u001b[0m \u001b[0mclassifier\u001b[0m\u001b[0;34m=\u001b[0m\u001b[0mis_classifier\u001b[0m\u001b[0;34m(\u001b[0m\u001b[0mestimator\u001b[0m\u001b[0;34m)\u001b[0m\u001b[0;34m)\u001b[0m\u001b[0;34m\u001b[0m\u001b[0;34m\u001b[0m\u001b[0m\n",
      "\u001b[0;32m~/opt/anaconda3/lib/python3.7/site-packages/sklearn/utils/validation.py\u001b[0m in \u001b[0;36mindexable\u001b[0;34m(*iterables)\u001b[0m\n\u001b[1;32m    246\u001b[0m     \"\"\"\n\u001b[1;32m    247\u001b[0m     \u001b[0mresult\u001b[0m \u001b[0;34m=\u001b[0m \u001b[0;34m[\u001b[0m\u001b[0m_make_indexable\u001b[0m\u001b[0;34m(\u001b[0m\u001b[0mX\u001b[0m\u001b[0;34m)\u001b[0m \u001b[0;32mfor\u001b[0m \u001b[0mX\u001b[0m \u001b[0;32min\u001b[0m \u001b[0miterables\u001b[0m\u001b[0;34m]\u001b[0m\u001b[0;34m\u001b[0m\u001b[0;34m\u001b[0m\u001b[0m\n\u001b[0;32m--> 248\u001b[0;31m     \u001b[0mcheck_consistent_length\u001b[0m\u001b[0;34m(\u001b[0m\u001b[0;34m*\u001b[0m\u001b[0mresult\u001b[0m\u001b[0;34m)\u001b[0m\u001b[0;34m\u001b[0m\u001b[0;34m\u001b[0m\u001b[0m\n\u001b[0m\u001b[1;32m    249\u001b[0m     \u001b[0;32mreturn\u001b[0m \u001b[0mresult\u001b[0m\u001b[0;34m\u001b[0m\u001b[0;34m\u001b[0m\u001b[0m\n\u001b[1;32m    250\u001b[0m \u001b[0;34m\u001b[0m\u001b[0m\n",
      "\u001b[0;32m~/opt/anaconda3/lib/python3.7/site-packages/sklearn/utils/validation.py\u001b[0m in \u001b[0;36mcheck_consistent_length\u001b[0;34m(*arrays)\u001b[0m\n\u001b[1;32m    210\u001b[0m     \u001b[0;32mif\u001b[0m \u001b[0mlen\u001b[0m\u001b[0;34m(\u001b[0m\u001b[0muniques\u001b[0m\u001b[0;34m)\u001b[0m \u001b[0;34m>\u001b[0m \u001b[0;36m1\u001b[0m\u001b[0;34m:\u001b[0m\u001b[0;34m\u001b[0m\u001b[0;34m\u001b[0m\u001b[0m\n\u001b[1;32m    211\u001b[0m         raise ValueError(\"Found input variables with inconsistent numbers of\"\n\u001b[0;32m--> 212\u001b[0;31m                          \" samples: %r\" % [int(l) for l in lengths])\n\u001b[0m\u001b[1;32m    213\u001b[0m \u001b[0;34m\u001b[0m\u001b[0m\n\u001b[1;32m    214\u001b[0m \u001b[0;34m\u001b[0m\u001b[0m\n",
      "\u001b[0;31mValueError\u001b[0m: Found input variables with inconsistent numbers of samples: [129, 360]"
     ]
    }
   ],
   "source": [
    "# Needed tools\n",
    "%pylab inline\n",
    "from scipy import io      \n",
    "from sklearn.svm import SVC, SVR \n",
    "from sklearn.model_selection import cross_val_score, StratifiedShuffleSplit\n",
    "from sklearn.preprocessing import StandardScaler\n",
    "from sklearn.pipeline import Pipeline\n",
    "from sklearn.feature_selection import SelectKBest, f_classif\n",
    "\n",
    "import numpy as np\n",
    "import matplotlib.pyplot as plt\n",
    "import pandas as pd\n",
    "\n",
    "\n",
    "# Time bin to be concatenated???????\n",
    "lentimebin = 3\n",
    "# Number of trials to be averaged\n",
    "n = 1\n",
    "# Time window for the epoch\n",
    "timeStart = 1\n",
    "timeEnd = 125 \n",
    "\n",
    "# Define number of time bins and prelocate the scores\n",
    "nTimeBins = len(np.array(range(timeStart,timeEnd,lentimebin)))\n",
    "all_scores = np.zeros((len(subjects),nTimeBins))\n",
    "\n",
    "# loop across subjects\n",
    "sn = 0\n",
    "for s in subjects:\n",
    "    loaded = io.loadmat('aARI2%s.mat' % s, squeeze_me=True)\n",
    "    eeg = loaded['aARI2']['eeg8ms'] \n",
    "    ratio = loaded['aARI2']['ratio']\n",
    "    direction = loaded['aARI2']['direction']\n",
    "    resp = loaded['aARI2']['resp']\n",
    "    crtresp = loaded['aARI2']['crtresp']\n",
    "    acc = loaded['aARI2']['acc']\n",
    "   \n",
    "\n",
    "\n",
    "    ##### Get X and y#####\n",
    "\n",
    "    X = eeg\n",
    "    y = ratio\n",
    "\n",
    "    \n",
    "    ##### Decode #####\n",
    "       \n",
    "    # scaler\n",
    "    scaler= StandardScaler()\n",
    "    clf = SVC(C=1, kernel='linear')\n",
    "    # pipeline\n",
    "    clf_scal = Pipeline([('scaler', scaler), ('clf', clf)])\n",
    "\n",
    "    # cross-validation\n",
    "   # cv = StratifiedShuffleSplit( test_size=0.1, train_size=None, random_state=None, n_iterations=None)  \n",
    "\n",
    "    cv = StratifiedShuffleSplit(n_splits=5, test_size=0.1, random_state=0)\n",
    "    cv.get_n_splits(X, y)\n",
    "    \n",
    "    # inizialize\n",
    "    scores_AllBin = []\n",
    "    std_scores_AllBin = []\n",
    "    # choose time bins\n",
    "    count = 0 \n",
    "       \n",
    "    print('decoding')  \n",
    "\n",
    "#    for tp in range(timeStart,timeEnd,lentimebin): #(1,125,3)\n",
    "#        tbin = range(tp,tp+lentimebin) \n",
    "#        Xt = X[:, :, tbin]\n",
    "#        X_long = np.reshape(Xt,(X.shape[0], Xt.shape[1]*lentimebin), order='C')\n",
    "\n",
    "    for tp in range (1,125):\n",
    "        tp_eeg = X[:][:][tp] # trial, channel, time\n",
    "        scores_t_X_long = cross_val_score(clf_scal, tp_eeg, y, cv=cv, n_jobs=7)\n",
    "        scores_AllBin = np.append(scores_AllBin,scores_t_X_long.mean())\n",
    "        #std_scores_AllBin = np.append(std_scores_AllBin,scores_t_X_long.std())\n",
    "        count = count +1\n",
    "        \n",
    "    # store scores\n",
    "    all_scores[sn,:] = scores_AllBin\n",
    "    sn = sn + 1\n",
    "    \n",
    "    print ('done')"
   ]
  },
  {
   "cell_type": "code",
   "execution_count": null,
   "metadata": {},
   "outputs": [],
   "source": [
    "import pandas as pd\n",
    "from sklearn.model_selection import train_test_split\n",
    "from sklearn.svm import SVC\n",
    "from sklearn.metrics import accuracy_score\n",
    "from sklearn.model_selection import KFold\n",
    "from sklearn.model_selection import GridSearchCV\n",
    "\n",
    "\n",
    "iris_data =pd.read_csv('iris.csv', encoding = 'utf-8')\n",
    "\n",
    "# 붓꽃 데이터를 레이블과 학습용으로 분리하기\n",
    "label = iris_data.loc[:, 'Name']\n",
    "data = iris_data.loc[:, ['SepalLength', 'SepalWidth', 'PetalLength', 'PetalWidth']]\n",
    "\n",
    "warnings.filterwarnings('ignore')\n",
    "train_data, test_data, train_label, test_label = (\n",
    "    train_test_split(data, label, test_size = 0.2, train_size = 0.8, shuffle = True))\n",
    "\n",
    "# 그리드 서치 객체 생성\n",
    "parameters = [\n",
    "    {'C':[1,10,100,1000], 'kernel': ['linear']},\n",
    "    {'C':[1,10,100,1000], 'kernel': ['rbt'], 'gamma':[0.001, 0.0001]},\n",
    "    {'C':[1,10,100,1000], 'kernel': ['sigmoid'], 'gamma':[0.001, 0.0001]}\n",
    "]\n",
    "\n",
    "kfold_cv = KFold(n_splits = 5, shuffle = True)\n",
    "clf = GridSearchCV(SVC(), parameters, cv = kfold_cv)\n",
    "\n",
    "clf.fit(train_data, train_label)\n",
    "print(\"최적의 매개변수 ==> \", clf.best_estimator_)\n",
    "pre = clf.predict(test_data)\n",
    "print(\"최종 정답률: \", accuracy_score(test_label, pre))\n",
    "\n",
    "# GridSearch는 모든 Estimator를 테스트해서 괜찮은 걸 알려줌\n",
    "# 맥이랑 리눅스의 결과가 다르게 나올 수 있다."
   ]
  }
 ],
 "metadata": {
  "kernelspec": {
   "display_name": "Python 3",
   "language": "python",
   "name": "python3"
  },
  "language_info": {
   "codemirror_mode": {
    "name": "ipython",
    "version": 3
   },
   "file_extension": ".py",
   "mimetype": "text/x-python",
   "name": "python",
   "nbconvert_exporter": "python",
   "pygments_lexer": "ipython3",
   "version": "3.7.6"
  }
 },
 "nbformat": 4,
 "nbformat_minor": 4
}
